{
 "cells": [
  {
   "cell_type": "code",
   "execution_count": 4,
   "metadata": {},
   "outputs": [],
   "source": [
    "# Read text file and get an RDD with a list of lines\n",
    "lines = spark.read.text('/home/spark/spark/spark/README.md').rdd.map(lambda r: r[0])"
   ]
  },
  {
   "cell_type": "markdown",
   "metadata": {},
   "source": [
    "The above code reads a file and creates an RDD `lines` with the lines of text in the file. To get the word count, you will need to perform the following steps:\n",
    "\n",
    "* Split the lines into words and combine the words found in all lines together. For this, use the `flatMap` function with a `lambda` function that splits its input by space using the standard python function `split`. `flatMap` will do the job of concatenating the words from all lines into an RDD with one long list.\n",
    "* For the _map_ phase, the mapper (which will be another `lambda` simply takes each word and returns a tuple with `(word, 1)`\n",
    "* For the _reduce_ phase, you can call `reduceByKey` with the reducer being the add operator (i.e `lambda a,b: a+b`). This will treat the first element of its input as the key and add together all elements with the same key together. The result will be an RDD with each word and its count. Store the result as `counts` so that you can view the results in the next cell."
   ]
  },
  {
   "cell_type": "code",
   "execution_count": null,
   "metadata": {},
   "outputs": [],
   "source": [
    "# Your code here to process lines and store the result in outout."
   ]
  },
  {
   "cell_type": "code",
   "execution_count": null,
   "metadata": {},
   "outputs": [],
   "source": [
    "# Call collect() on counts to get the output as a python list of tuples.\n",
    "output = counts.collect()\n",
    "# Print the results\n",
    "for (word, count) in sorted(output, key=lambda x : x[1])[::-1]:\n",
    "    print(\"%s: %i\" % (word, count))"
   ]
  }
 ],
 "metadata": {
  "kernelspec": {
   "display_name": "Python 2",
   "language": "python",
   "name": "python2"
  },
  "language_info": {
   "codemirror_mode": {
    "name": "ipython",
    "version": 2
   },
   "file_extension": ".py",
   "mimetype": "text/x-python",
   "name": "python",
   "nbconvert_exporter": "python",
   "pygments_lexer": "ipython2",
   "version": "2.7.15"
  }
 },
 "nbformat": 4,
 "nbformat_minor": 2
}
