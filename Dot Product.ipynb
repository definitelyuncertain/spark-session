{
 "cells": [
  {
   "cell_type": "markdown",
   "metadata": {},
   "source": [
    "In this example, you will find the dot product of two vectors. In the cell below, they are created as `rdd1` and `rdd2`. The steps to be performed are as follows:\n",
    "\n",
    "* Combine the two vectors element-wise by calling the `zip` method of `rdd2` with `rdd1` as the argument. This will  return an RDD of tuples which contain the coordinates of both vectors put together.\n",
    "* The _map_ phase will have a `lambda` that takes each of these tuples and multiplies the coordinates together. To get the coordinates, you can index into the tuple as you would with an ordinary Python tuple.\n",
    "* The _reduce_ phase will be the add operator again.\n",
    "* Store the result as `output`."
   ]
  },
  {
   "cell_type": "code",
   "execution_count": null,
   "metadata": {},
   "outputs": [],
   "source": [
    "a = [1,2,3,4]\n",
    "\n",
    "b =[1,1,2,1]\n",
    "\n",
    "rdd1 = sc.parallelize(a)\n",
    "rdd2 = sc.parallelize(b)"
   ]
  },
  {
   "cell_type": "code",
   "execution_count": null,
   "metadata": {},
   "outputs": [],
   "source": [
    "# Your code to do the vector multiplication"
   ]
  },
  {
   "cell_type": "code",
   "execution_count": null,
   "metadata": {},
   "outputs": [],
   "source": [
    "# Print the answer\n",
    "print output"
   ]
  }
 ],
 "metadata": {
  "kernelspec": {
   "display_name": "Python 2",
   "language": "python",
   "name": "python2"
  },
  "language_info": {
   "codemirror_mode": {
    "name": "ipython",
    "version": 2
   },
   "file_extension": ".py",
   "mimetype": "text/x-python",
   "name": "python",
   "nbconvert_exporter": "python",
   "pygments_lexer": "ipython2",
   "version": "2.7.15"
  }
 },
 "nbformat": 4,
 "nbformat_minor": 2
}
